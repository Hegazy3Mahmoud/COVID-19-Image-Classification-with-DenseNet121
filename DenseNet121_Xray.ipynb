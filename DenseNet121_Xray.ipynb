{
  "nbformat": 4,
  "nbformat_minor": 0,
  "metadata": {
    "colab": {
      "provenance": []
    },
    "kernelspec": {
      "name": "python3",
      "display_name": "Python 3"
    },
    "accelerator": "GPU"
  },
  "cells": [
    {
      "cell_type": "code",
      "metadata": {
        "id": "CvBm71vhZjaV"
      },
      "source": [
        "!wget http://cb.lk/covid_19\n",
        "!unzip covid_19"
      ],
      "execution_count": null,
      "outputs": []
    },
    {
      "cell_type": "markdown",
      "source": [
        "### Import Libraries"
      ],
      "metadata": {
        "id": "kiZqgG4nx5zn"
      }
    },
    {
      "cell_type": "code",
      "metadata": {
        "id": "zM1aOSa9aitu"
      },
      "source": [
        "import keras\n",
        "from keras.models import *\n",
        "from keras.layers import *\n",
        "from keras.preprocessing import image\n",
        "from tensorflow.keras.applications import DenseNet121\n",
        "import PIL\n",
        "import os\n",
        "import matplotlib.pyplot as plt\n"
      ],
      "execution_count": null,
      "outputs": []
    },
    {
      "cell_type": "markdown",
      "source": [
        "### Load and Prepare Model"
      ],
      "metadata": {
        "id": "fTg0DRfyyBTt"
      }
    },
    {
      "cell_type": "code",
      "metadata": {
        "id": "pidBBG8Rai9m",
        "colab": {
          "base_uri": "https://localhost:8080/"
        },
        "outputId": "0dd6b6cc-2908-423f-b94c-659c70a4cad9"
      },
      "source": [
        "# Download the architecture of DenseNet121 with ImageNet weights\n",
        "base_model = DenseNet121(include_top=False, weights='imagenet')\n",
        "\n",
        "# Taking the output of the last convolution block in DenseNet121\n",
        "x = base_model.output\n",
        "\n",
        "# Adding a Global Average Pooling layer\n",
        "x = GlobalAveragePooling2D()(x)\n",
        "\n",
        "# Adding a fully connected layer having 512 neurons\n",
        "x = Dense(512, activation='relu')(x)\n",
        "\n",
        "# Adding a fully connected layer having 2 neurons which will\n",
        "# give the probability of image having either class\n",
        "predictions = Dense(2, activation='softmax')(x)\n",
        "\n",
        "# Model to be trained\n",
        "model = Model(inputs=base_model.input, outputs=predictions)\n",
        "\n",
        "# Training only top layers i.e. the layers which we have added in the end\n",
        "for layer in base_model.layers:\n",
        "    layer.trainable = False\n",
        "\n",
        "model.compile(loss=keras.losses.categorical_crossentropy, optimizer=\"adam\", metrics=['accuracy'])\n"
      ],
      "execution_count": null,
      "outputs": [
        {
          "output_type": "stream",
          "name": "stdout",
          "text": [
            "Downloading data from https://storage.googleapis.com/tensorflow/keras-applications/densenet/densenet121_weights_tf_dim_ordering_tf_kernels_notop.h5\n",
            "29089792/29084464 [==============================] - 0s 0us/step\n",
            "29097984/29084464 [==============================] - 0s 0us/step\n"
          ]
        }
      ]
    },
    {
      "cell_type": "markdown",
      "source": [
        "### Prepare Data"
      ],
      "metadata": {
        "id": "GaUuceJqyLK4"
      }
    },
    {
      "cell_type": "code",
      "metadata": {
        "colab": {
          "base_uri": "https://localhost:8080/"
        },
        "id": "UUYllnxieaHV",
        "outputId": "5976b954-d836-494e-b413-62fd8b678f93"
      },
      "source": [
        "from keras.preprocessing.image import ImageDataGenerator\n",
        "\n",
        "# Define the main directory for the dataset\n",
        "main_dir = \"/content/CovidDataset\"\n",
        "\n",
        "# Create data generators for training and testing with data augmentation for training\n",
        "train_data = ImageDataGenerator(\n",
        "    rescale=1./255,  # Normalize pixel values to [0, 1]\n",
        "    shear_range=0.2,  # Randomly shear images\n",
        "    zoom_range=0.2,   # Randomly zoom images\n",
        "    horizontal_flip=True  # Randomly flip images horizontally\n",
        ")\n",
        "\n",
        "test_data = ImageDataGenerator(rescale=1./255)  # Only normalize pixel values for testing\n",
        "\n",
        "# Define directories for training and validation data\n",
        "train_dir = os.path.join(main_dir, \"Train\")\n",
        "test_dir = os.path.join(main_dir, \"Val\")\n",
        "\n",
        "# Create data generators for training and validation\n",
        "training_set = train_data.flow_from_directory(\n",
        "    train_dir,\n",
        "    target_size=(224, 224),  # Resize images to 224x224 pixels\n",
        "    batch_size=32,  # Number of images to return in each batch\n",
        "    class_mode='categorical'  # For multi-class classification\n",
        ")\n",
        "\n",
        "test_set = test_data.flow_from_directory(\n",
        "    test_dir,\n",
        "    target_size=(224, 224),\n",
        "    batch_size=32,\n",
        "    class_mode='categorical'\n",
        ")\n"
      ],
      "execution_count": null,
      "outputs": [
        {
          "output_type": "stream",
          "name": "stdout",
          "text": [
            "Found 224 images belonging to 2 classes.\n",
            "Found 60 images belonging to 2 classes.\n"
          ]
        }
      ]
    },
    {
      "cell_type": "markdown",
      "source": [
        "### Train Model"
      ],
      "metadata": {
        "id": "ZkilQTdHySKY"
      }
    },
    {
      "cell_type": "code",
      "metadata": {
        "colab": {
          "base_uri": "https://localhost:8080/"
        },
        "id": "vrhhd8n6eaTG",
        "outputId": "35b1c9a3-f98a-42a8-9e5f-8cfe9b5037f1"
      },
      "source": [
        "# Train the model using the training and validation datasets\n",
        "results = model.fit_generator(\n",
        "    training_set,\n",
        "    steps_per_epoch=2,  # Number of steps per epoch\n",
        "    epochs=20,  # Number of epochs\n",
        "    validation_data=test_set,\n",
        "    validation_steps=2  # Number of validation steps\n",
        ")\n"
      ],
      "execution_count": null,
      "outputs": [
        {
          "output_type": "stream",
          "name": "stderr",
          "text": [
            "/usr/local/lib/python3.7/dist-packages/ipykernel_launcher.py:6: UserWarning: `Model.fit_generator` is deprecated and will be removed in a future version. Please use `Model.fit`, which supports generators.\n",
            "  \n"
          ]
        },
        {
          "output_type": "stream",
          "name": "stdout",
          "text": [
            "Epoch 1/20\n",
            "2/2 [==============================] - 26s 8s/step - loss: 2.5592 - accuracy: 0.2656 - val_loss: 1.5087 - val_accuracy: 0.5000\n",
            "Epoch 2/20\n",
            "2/2 [==============================] - 5s 4s/step - loss: 0.7186 - accuracy: 0.7344 - val_loss: 1.1608 - val_accuracy: 0.5000\n",
            "Epoch 3/20\n",
            "2/2 [==============================] - 5s 4s/step - loss: 0.7208 - accuracy: 0.5781 - val_loss: 0.1379 - val_accuracy: 0.9500\n",
            "Epoch 4/20\n",
            "2/2 [==============================] - 5s 4s/step - loss: 0.1628 - accuracy: 0.9688 - val_loss: 0.1175 - val_accuracy: 0.9333\n",
            "Epoch 5/20\n",
            "2/2 [==============================] - 6s 4s/step - loss: 0.0867 - accuracy: 0.9688 - val_loss: 0.5017 - val_accuracy: 0.8167\n",
            "Epoch 6/20\n",
            "2/2 [==============================] - 5s 4s/step - loss: 0.4555 - accuracy: 0.8438 - val_loss: 0.3236 - val_accuracy: 0.8667\n",
            "Epoch 7/20\n",
            "2/2 [==============================] - 5s 4s/step - loss: 0.3412 - accuracy: 0.8594 - val_loss: 0.0397 - val_accuracy: 0.9833\n",
            "Epoch 8/20\n",
            "2/2 [==============================] - 6s 4s/step - loss: 0.0634 - accuracy: 0.9844 - val_loss: 0.0681 - val_accuracy: 0.9833\n",
            "Epoch 9/20\n",
            "2/2 [==============================] - 5s 4s/step - loss: 0.0658 - accuracy: 0.9688 - val_loss: 0.1897 - val_accuracy: 0.9333\n",
            "Epoch 10/20\n",
            "2/2 [==============================] - 5s 4s/step - loss: 0.0762 - accuracy: 0.9844 - val_loss: 0.3081 - val_accuracy: 0.9333\n",
            "Epoch 11/20\n",
            "2/2 [==============================] - 5s 4s/step - loss: 0.1209 - accuracy: 0.9688 - val_loss: 0.2779 - val_accuracy: 0.9333\n",
            "Epoch 12/20\n",
            "2/2 [==============================] - 6s 4s/step - loss: 0.0770 - accuracy: 0.9844 - val_loss: 0.1703 - val_accuracy: 0.9500\n",
            "Epoch 13/20\n",
            "2/2 [==============================] - 5s 4s/step - loss: 0.0793 - accuracy: 0.9688 - val_loss: 0.0949 - val_accuracy: 0.9833\n",
            "Epoch 14/20\n",
            "2/2 [==============================] - 5s 4s/step - loss: 0.0214 - accuracy: 0.9844 - val_loss: 0.0539 - val_accuracy: 0.9833\n",
            "Epoch 15/20\n",
            "2/2 [==============================] - 5s 4s/step - loss: 0.0022 - accuracy: 1.0000 - val_loss: 0.0319 - val_accuracy: 0.9833\n",
            "Epoch 16/20\n",
            "2/2 [==============================] - 5s 4s/step - loss: 0.0266 - accuracy: 0.9844 - val_loss: 0.0317 - val_accuracy: 0.9833\n",
            "Epoch 17/20\n",
            "2/2 [==============================] - 5s 4s/step - loss: 0.0150 - accuracy: 1.0000 - val_loss: 0.0470 - val_accuracy: 0.9833\n",
            "Epoch 18/20\n",
            "2/2 [==============================] - 5s 4s/step - loss: 0.0586 - accuracy: 0.9688 - val_loss: 0.0461 - val_accuracy: 0.9833\n",
            "Epoch 19/20\n",
            "2/2 [==============================] - 5s 4s/step - loss: 0.0058 - accuracy: 1.0000 - val_loss: 0.0397 - val_accuracy: 0.9833\n",
            "Epoch 20/20\n",
            "2/2 [==============================] - 6s 4s/step - loss: 0.0608 - accuracy: 0.9531 - val_loss: 0.0292 - val_accuracy: 0.9667\n"
          ]
        }
      ]
    },
    {
      "cell_type": "code",
      "metadata": {
        "colab": {
          "base_uri": "https://localhost:8080/"
        },
        "id": "Y6e3G-Kb0eqo",
        "outputId": "aae685c9-5573-454d-beff-75d4dbd2da4f"
      },
      "source": [
        "results.history.keys()"
      ],
      "execution_count": null,
      "outputs": [
        {
          "output_type": "execute_result",
          "data": {
            "text/plain": [
              "dict_keys(['loss', 'accuracy', 'val_loss', 'val_accuracy'])"
            ]
          },
          "metadata": {},
          "execution_count": 8
        }
      ]
    },
    {
      "cell_type": "markdown",
      "source": [
        "### Evaluate and Plot Results"
      ],
      "metadata": {
        "id": "ibTZy7goyUpF"
      }
    },
    {
      "cell_type": "code",
      "metadata": {
        "colab": {
          "base_uri": "https://localhost:8080/",
          "height": 312
        },
        "id": "1GSyKbm71PuR",
        "outputId": "74a35f16-a9f8-4236-e371-da6f24840faa"
      },
      "source": [
        "%matplotlib inline\n",
        "\n",
        "# Plot training and validation loss\n",
        "plt.plot(results.history['loss'])\n",
        "plt.plot(results.history['val_loss'])\n",
        "plt.legend(['Training', 'Validation'])\n",
        "plt.title('Training and Validation Losses')\n",
        "plt.xlabel('Epoch')\n",
        "plt.ylabel('Loss')\n",
        "plt.show()\n",
        "\n",
        "# Plot training and validation accuracy\n",
        "plt.plot(results.history['accuracy'])\n",
        "plt.plot(results.history['val_accuracy'])\n",
        "plt.legend(['Training', 'Validation'])\n",
        "plt.title('Training and Validation Accuracy')\n",
        "plt.xlabel('Epoch')\n",
        "plt.ylabel('Accuracy')\n",
        "plt.show()\n"
      ],
      "execution_count": null,
      "outputs": [
        {
          "output_type": "execute_result",
          "data": {
            "text/plain": [
              "Text(0.5, 0, 'epoch')"
            ]
          },
          "metadata": {},
          "execution_count": 9
        },
        {
          "output_type": "display_data",
          "data": {
            "image/png": "[encoded data removed]",
            "text/plain": [
              "<Figure size 432x288 with 1 Axes>"
            ]
          },
          "metadata": {
            "needs_background": "light"
          }
        }
      ]
    },
    {
      "cell_type": "code",
      "metadata": {
        "colab": {
          "base_uri": "https://localhost:8080/"
        },
        "id": "rd_InTJ13AIv",
        "outputId": "c2f2d947-b53b-4420-d61d-94789280e9f0"
      },
      "source": [
        "test_loss, test_acc = model.evaluate(test_set)\n",
        "print('test loss :{}   test accuracy :{}'.format(test_loss,test_acc))"
      ],
      "execution_count": null,
      "outputs": [
        {
          "output_type": "stream",
          "name": "stdout",
          "text": [
            "2/2 [==============================] - 2s 1s/step - loss: 0.0292 - accuracy: 0.9667\n",
            "test loss :0.02916327305138111   test accuracy :0.9666666388511658\n"
          ]
        }
      ]
    }
  ]
}